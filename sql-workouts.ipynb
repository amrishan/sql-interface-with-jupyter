{
 "cells": [
  {
   "cell_type": "markdown",
   "metadata": {},
   "source": [
    "# SQL Concepts"
   ]
  },
  {
   "cell_type": "markdown",
   "metadata": {},
   "source": [
    "Sqlite database is used for querying\n",
    "\n",
    "SQL flavour: T-SQL"
   ]
  },
  {
   "cell_type": "code",
   "execution_count": null,
   "metadata": {},
   "outputs": [],
   "source": [
    "%load_ext sql"
   ]
  },
  {
   "cell_type": "code",
   "execution_count": 63,
   "metadata": {},
   "outputs": [],
   "source": [
    "%sql sqlite://"
   ]
  },
  {
   "cell_type": "code",
   "execution_count": 64,
   "metadata": {},
   "outputs": [
    {
     "name": "stdout",
     "output_type": "stream",
     "text": [
      " * sqlite://\n",
      "Done.\n",
      "Done.\n",
      "1 rows affected.\n",
      "1 rows affected.\n",
      "1 rows affected.\n",
      "1 rows affected.\n",
      "1 rows affected.\n",
      "1 rows affected.\n",
      "1 rows affected.\n",
      "1 rows affected.\n",
      "1 rows affected.\n",
      "1 rows affected.\n",
      "1 rows affected.\n",
      "1 rows affected.\n",
      "(sqlite3.OperationalError) table dept already exists\n",
      "[SQL: CREATE TABLE dept\n",
      "(deptno NUMBER(5)  NOT NULL,\n",
      "name    VARCHAR2(20) NOT NULL,\n",
      "building        VARCHAR2(20),\n",
      "CONSTRAINT pk_deptno PRIMARY KEY (deptno)\n",
      ");]\n",
      "(Background on this error at: http://sqlalche.me/e/13/e3q8)\n"
     ]
    }
   ],
   "source": [
    "%%sql   \n",
    "\n",
    "drop table emp;\n",
    "\n",
    "CREATE TABLE emp\n",
    "(empid  NUMBER(5),\n",
    "fname   VARCHAR2(20),\n",
    "lname   VARCHAR2(20),\n",
    "sex     VARCHAR2(1),\n",
    "ssn     VARCHAR2(9),\n",
    "salary  NUMBER(8),\n",
    "deptno  NUMBER(5)\n",
    ");                 \n",
    "\n",
    "INSERT INTO emp VALUES (501,'JOHN','DOE','M','500000001',30000,4001);\n",
    "INSERT INTO emp VALUES (502,'JOHN','SMITH','M','500000002',40000,4001);\n",
    "INSERT INTO emp VALUES (503,'SEAN','LEE','M','500000003',30000,4001);\n",
    "INSERT INTO emp VALUES (512,'AMRISHAN','VAI','M','500000001',40000,4001);\n",
    "INSERT INTO emp VALUES (504,'EVAN','SEAN','M','500000004',50000,4002);\n",
    "INSERT INTO emp VALUES (505,'REBECCA','SEAN','F','500000005',30000,4002);\n",
    "INSERT INTO emp VALUES (506,'TIM','DUNCAN','M','500000006',30000,4002);\n",
    "INSERT INTO emp VALUES (507,'ROBERT','DUVAL','M','500000007',30000,4002);\n",
    "INSERT INTO emp VALUES (508,'CLINT','JOHNSON','M','500000008',30000,4002);\n",
    "INSERT INTO emp VALUES (509,'SARRAH','MCMILLAN','F','500000009',60000,4003);\n",
    "INSERT INTO emp VALUES (510,'DAVID','LIMB','M','500000010',30000,4003);\n",
    "INSERT INTO emp VALUES (511,'DAVID','BOWE','M','500000011',30000,4003);\n",
    "\n",
    "CREATE TABLE dept\n",
    "(deptno NUMBER(5)  NOT NULL,\n",
    "name    VARCHAR2(20) NOT NULL,\n",
    "building        VARCHAR2(20),\n",
    "CONSTRAINT pk_deptno PRIMARY KEY (deptno)\n",
    ");                           \n",
    "\n",
    "\n",
    "\n",
    "\n",
    "INSERT INTO dept VALUES (4001, 'SHOES', 'BUILDING I');\n",
    "INSERT INTO dept VALUES (4002, 'WOMAN CLOTHING', 'BUILDING II');\n",
    "INSERT INTO dept VALUES (4003, 'MEN CLOTHING', 'BUILDING II');\n",
    "INSERT INTO dept VALUES (4004, 'KITCHEN APPLIANCES', 'MAIN BUILDING');"
   ]
  },
  {
   "cell_type": "code",
   "execution_count": 65,
   "metadata": {},
   "outputs": [
    {
     "name": "stdout",
     "output_type": "stream",
     "text": [
      " * sqlite://\n",
      "Done.\n"
     ]
    },
    {
     "data": {
      "text/html": [
       "<table>\n",
       "    <tr>\n",
       "        <th>empid</th>\n",
       "        <th>fname</th>\n",
       "        <th>lname</th>\n",
       "        <th>sex</th>\n",
       "        <th>ssn</th>\n",
       "        <th>salary</th>\n",
       "        <th>deptno</th>\n",
       "    </tr>\n",
       "    <tr>\n",
       "        <td>501</td>\n",
       "        <td>JOHN</td>\n",
       "        <td>DOE</td>\n",
       "        <td>M</td>\n",
       "        <td>500000001</td>\n",
       "        <td>30000</td>\n",
       "        <td>4001</td>\n",
       "    </tr>\n",
       "    <tr>\n",
       "        <td>502</td>\n",
       "        <td>JOHN</td>\n",
       "        <td>SMITH</td>\n",
       "        <td>M</td>\n",
       "        <td>500000002</td>\n",
       "        <td>40000</td>\n",
       "        <td>4001</td>\n",
       "    </tr>\n",
       "    <tr>\n",
       "        <td>503</td>\n",
       "        <td>SEAN</td>\n",
       "        <td>LEE</td>\n",
       "        <td>M</td>\n",
       "        <td>500000003</td>\n",
       "        <td>30000</td>\n",
       "        <td>4001</td>\n",
       "    </tr>\n",
       "    <tr>\n",
       "        <td>512</td>\n",
       "        <td>AMRISHAN</td>\n",
       "        <td>VAI</td>\n",
       "        <td>M</td>\n",
       "        <td>500000001</td>\n",
       "        <td>40000</td>\n",
       "        <td>4001</td>\n",
       "    </tr>\n",
       "    <tr>\n",
       "        <td>504</td>\n",
       "        <td>EVAN</td>\n",
       "        <td>SEAN</td>\n",
       "        <td>M</td>\n",
       "        <td>500000004</td>\n",
       "        <td>50000</td>\n",
       "        <td>4002</td>\n",
       "    </tr>\n",
       "    <tr>\n",
       "        <td>505</td>\n",
       "        <td>REBECCA</td>\n",
       "        <td>SEAN</td>\n",
       "        <td>F</td>\n",
       "        <td>500000005</td>\n",
       "        <td>30000</td>\n",
       "        <td>4002</td>\n",
       "    </tr>\n",
       "    <tr>\n",
       "        <td>506</td>\n",
       "        <td>TIM</td>\n",
       "        <td>DUNCAN</td>\n",
       "        <td>M</td>\n",
       "        <td>500000006</td>\n",
       "        <td>30000</td>\n",
       "        <td>4002</td>\n",
       "    </tr>\n",
       "    <tr>\n",
       "        <td>507</td>\n",
       "        <td>ROBERT</td>\n",
       "        <td>DUVAL</td>\n",
       "        <td>M</td>\n",
       "        <td>500000007</td>\n",
       "        <td>30000</td>\n",
       "        <td>4002</td>\n",
       "    </tr>\n",
       "    <tr>\n",
       "        <td>508</td>\n",
       "        <td>CLINT</td>\n",
       "        <td>JOHNSON</td>\n",
       "        <td>M</td>\n",
       "        <td>500000008</td>\n",
       "        <td>30000</td>\n",
       "        <td>4002</td>\n",
       "    </tr>\n",
       "    <tr>\n",
       "        <td>509</td>\n",
       "        <td>SARRAH</td>\n",
       "        <td>MCMILLAN</td>\n",
       "        <td>F</td>\n",
       "        <td>500000009</td>\n",
       "        <td>60000</td>\n",
       "        <td>4003</td>\n",
       "    </tr>\n",
       "    <tr>\n",
       "        <td>510</td>\n",
       "        <td>DAVID</td>\n",
       "        <td>LIMB</td>\n",
       "        <td>M</td>\n",
       "        <td>500000010</td>\n",
       "        <td>30000</td>\n",
       "        <td>4003</td>\n",
       "    </tr>\n",
       "    <tr>\n",
       "        <td>511</td>\n",
       "        <td>DAVID</td>\n",
       "        <td>BOWE</td>\n",
       "        <td>M</td>\n",
       "        <td>500000011</td>\n",
       "        <td>30000</td>\n",
       "        <td>4003</td>\n",
       "    </tr>\n",
       "</table>"
      ],
      "text/plain": [
       "[(501, 'JOHN', 'DOE', 'M', '500000001', 30000, 4001),\n",
       " (502, 'JOHN', 'SMITH', 'M', '500000002', 40000, 4001),\n",
       " (503, 'SEAN', 'LEE', 'M', '500000003', 30000, 4001),\n",
       " (512, 'AMRISHAN', 'VAI', 'M', '500000001', 40000, 4001),\n",
       " (504, 'EVAN', 'SEAN', 'M', '500000004', 50000, 4002),\n",
       " (505, 'REBECCA', 'SEAN', 'F', '500000005', 30000, 4002),\n",
       " (506, 'TIM', 'DUNCAN', 'M', '500000006', 30000, 4002),\n",
       " (507, 'ROBERT', 'DUVAL', 'M', '500000007', 30000, 4002),\n",
       " (508, 'CLINT', 'JOHNSON', 'M', '500000008', 30000, 4002),\n",
       " (509, 'SARRAH', 'MCMILLAN', 'F', '500000009', 60000, 4003),\n",
       " (510, 'DAVID', 'LIMB', 'M', '500000010', 30000, 4003),\n",
       " (511, 'DAVID', 'BOWE', 'M', '500000011', 30000, 4003)]"
      ]
     },
     "execution_count": 65,
     "metadata": {},
     "output_type": "execute_result"
    }
   ],
   "source": [
    "%%sql \n",
    "select * from emp;"
   ]
  },
  {
   "cell_type": "markdown",
   "metadata": {},
   "source": [
    "### Window Function"
   ]
  },
  {
   "cell_type": "code",
   "execution_count": 76,
   "metadata": {},
   "outputs": [
    {
     "name": "stdout",
     "output_type": "stream",
     "text": [
      " * sqlite://\n",
      "Done.\n"
     ]
    },
    {
     "data": {
      "text/html": [
       "<table>\n",
       "    <tr>\n",
       "        <th>deptno</th>\n",
       "        <th>empid</th>\n",
       "        <th>salary</th>\n",
       "        <th>row_number</th>\n",
       "        <th>dense_rank</th>\n",
       "        <th>rank</th>\n",
       "        <th>avg_salary</th>\n",
       "        <th>max_salary</th>\n",
       "    </tr>\n",
       "    <tr>\n",
       "        <td>4001</td>\n",
       "        <td>502</td>\n",
       "        <td>40000</td>\n",
       "        <td>1</td>\n",
       "        <td>1</td>\n",
       "        <td>1</td>\n",
       "        <td>35000.0</td>\n",
       "        <td>40000</td>\n",
       "    </tr>\n",
       "    <tr>\n",
       "        <td>4001</td>\n",
       "        <td>512</td>\n",
       "        <td>40000</td>\n",
       "        <td>2</td>\n",
       "        <td>1</td>\n",
       "        <td>1</td>\n",
       "        <td>35000.0</td>\n",
       "        <td>40000</td>\n",
       "    </tr>\n",
       "    <tr>\n",
       "        <td>4001</td>\n",
       "        <td>501</td>\n",
       "        <td>30000</td>\n",
       "        <td>3</td>\n",
       "        <td>2</td>\n",
       "        <td>3</td>\n",
       "        <td>35000.0</td>\n",
       "        <td>40000</td>\n",
       "    </tr>\n",
       "    <tr>\n",
       "        <td>4001</td>\n",
       "        <td>503</td>\n",
       "        <td>30000</td>\n",
       "        <td>4</td>\n",
       "        <td>2</td>\n",
       "        <td>3</td>\n",
       "        <td>35000.0</td>\n",
       "        <td>40000</td>\n",
       "    </tr>\n",
       "    <tr>\n",
       "        <td>4002</td>\n",
       "        <td>504</td>\n",
       "        <td>50000</td>\n",
       "        <td>1</td>\n",
       "        <td>1</td>\n",
       "        <td>1</td>\n",
       "        <td>34000.0</td>\n",
       "        <td>50000</td>\n",
       "    </tr>\n",
       "    <tr>\n",
       "        <td>4002</td>\n",
       "        <td>505</td>\n",
       "        <td>30000</td>\n",
       "        <td>2</td>\n",
       "        <td>2</td>\n",
       "        <td>2</td>\n",
       "        <td>34000.0</td>\n",
       "        <td>50000</td>\n",
       "    </tr>\n",
       "    <tr>\n",
       "        <td>4002</td>\n",
       "        <td>506</td>\n",
       "        <td>30000</td>\n",
       "        <td>3</td>\n",
       "        <td>2</td>\n",
       "        <td>2</td>\n",
       "        <td>34000.0</td>\n",
       "        <td>50000</td>\n",
       "    </tr>\n",
       "    <tr>\n",
       "        <td>4002</td>\n",
       "        <td>507</td>\n",
       "        <td>30000</td>\n",
       "        <td>4</td>\n",
       "        <td>2</td>\n",
       "        <td>2</td>\n",
       "        <td>34000.0</td>\n",
       "        <td>50000</td>\n",
       "    </tr>\n",
       "    <tr>\n",
       "        <td>4002</td>\n",
       "        <td>508</td>\n",
       "        <td>30000</td>\n",
       "        <td>5</td>\n",
       "        <td>2</td>\n",
       "        <td>2</td>\n",
       "        <td>34000.0</td>\n",
       "        <td>50000</td>\n",
       "    </tr>\n",
       "    <tr>\n",
       "        <td>4003</td>\n",
       "        <td>509</td>\n",
       "        <td>60000</td>\n",
       "        <td>1</td>\n",
       "        <td>1</td>\n",
       "        <td>1</td>\n",
       "        <td>40000.0</td>\n",
       "        <td>60000</td>\n",
       "    </tr>\n",
       "    <tr>\n",
       "        <td>4003</td>\n",
       "        <td>510</td>\n",
       "        <td>30000</td>\n",
       "        <td>2</td>\n",
       "        <td>2</td>\n",
       "        <td>2</td>\n",
       "        <td>40000.0</td>\n",
       "        <td>60000</td>\n",
       "    </tr>\n",
       "    <tr>\n",
       "        <td>4003</td>\n",
       "        <td>511</td>\n",
       "        <td>30000</td>\n",
       "        <td>3</td>\n",
       "        <td>2</td>\n",
       "        <td>2</td>\n",
       "        <td>40000.0</td>\n",
       "        <td>60000</td>\n",
       "    </tr>\n",
       "</table>"
      ],
      "text/plain": [
       "[(4001, 502, 40000, 1, 1, 1, 35000.0, 40000),\n",
       " (4001, 512, 40000, 2, 1, 1, 35000.0, 40000),\n",
       " (4001, 501, 30000, 3, 2, 3, 35000.0, 40000),\n",
       " (4001, 503, 30000, 4, 2, 3, 35000.0, 40000),\n",
       " (4002, 504, 50000, 1, 1, 1, 34000.0, 50000),\n",
       " (4002, 505, 30000, 2, 2, 2, 34000.0, 50000),\n",
       " (4002, 506, 30000, 3, 2, 2, 34000.0, 50000),\n",
       " (4002, 507, 30000, 4, 2, 2, 34000.0, 50000),\n",
       " (4002, 508, 30000, 5, 2, 2, 34000.0, 50000),\n",
       " (4003, 509, 60000, 1, 1, 1, 40000.0, 60000),\n",
       " (4003, 510, 30000, 2, 2, 2, 40000.0, 60000),\n",
       " (4003, 511, 30000, 3, 2, 2, 40000.0, 60000)]"
      ]
     },
     "execution_count": 76,
     "metadata": {},
     "output_type": "execute_result"
    }
   ],
   "source": [
    "%%sql\n",
    "select \n",
    "    deptno, empid, salary,\n",
    "    row_number() over(partition by deptno order by salary desc) as row_number,\n",
    "    dense_rank() over(partition by deptno order by salary desc) as dense_rank,\n",
    "    rank() over(partition by deptno order by salary desc) as rank,\n",
    "    avg(salary) over(partition by deptno) as avg_salary,\n",
    "    max(salary) over(partition by deptno) as max_salary\n",
    "from emp\n",
    "order by deptno;"
   ]
  },
  {
   "cell_type": "markdown",
   "metadata": {},
   "source": [
    "### Casting"
   ]
  },
  {
   "cell_type": "code",
   "execution_count": 67,
   "metadata": {},
   "outputs": [
    {
     "name": "stdout",
     "output_type": "stream",
     "text": [
      " * sqlite://\n",
      "Done.\n"
     ]
    },
    {
     "data": {
      "text/html": [
       "<table>\n",
       "    <tr>\n",
       "        <th>CAST(25.65 AS int)</th>\n",
       "    </tr>\n",
       "    <tr>\n",
       "        <td>25</td>\n",
       "    </tr>\n",
       "</table>"
      ],
      "text/plain": [
       "[(25,)]"
      ]
     },
     "execution_count": 67,
     "metadata": {},
     "output_type": "execute_result"
    }
   ],
   "source": [
    "%%sql\n",
    "SELECT CAST(25.65 AS int);"
   ]
  },
  {
   "cell_type": "code",
   "execution_count": 68,
   "metadata": {},
   "outputs": [
    {
     "name": "stdout",
     "output_type": "stream",
     "text": [
      " * sqlite://\n",
      "Done.\n"
     ]
    },
    {
     "data": {
      "text/html": [
       "<table>\n",
       "    <tr>\n",
       "        <th>trunc1</th>\n",
       "        <th>trunc2</th>\n",
       "        <th>round1</th>\n",
       "        <th>round2</th>\n",
       "    </tr>\n",
       "    <tr>\n",
       "        <td>10</td>\n",
       "        <td>-10</td>\n",
       "        <td>10.6496</td>\n",
       "        <td>-10.6496</td>\n",
       "    </tr>\n",
       "</table>"
      ],
      "text/plain": [
       "[(10, -10, 10.6496, -10.6496)]"
      ]
     },
     "execution_count": 68,
     "metadata": {},
     "output_type": "execute_result"
    }
   ],
   "source": [
    "%%sql\n",
    "SELECT  CAST(10.6496 AS int) as trunc1,\n",
    "         CAST(-10.6496 AS int) as trunc2,\n",
    "         CAST(10.6496 AS numeric) as round1,\n",
    "         CAST(-10.6496 AS numeric) as round2;"
   ]
  },
  {
   "cell_type": "markdown",
   "metadata": {},
   "source": [
    "### Date Functions"
   ]
  },
  {
   "cell_type": "markdown",
   "metadata": {},
   "source": [
    "\n",
    "SELECT DAY(GETDATE()) AS 'Day';\n",
    "\n",
    "SELECT getdate();\n",
    "\n",
    "SELECT DATEDIFF(DAY, 2019-31-01, 2019-01-01);"
   ]
  },
  {
   "cell_type": "markdown",
   "metadata": {},
   "source": [
    "### Case Statements"
   ]
  },
  {
   "cell_type": "code",
   "execution_count": 69,
   "metadata": {},
   "outputs": [
    {
     "name": "stdout",
     "output_type": "stream",
     "text": [
      " * sqlite://\n",
      "Done.\n"
     ]
    },
    {
     "data": {
      "text/html": [
       "<table>\n",
       "    <tr>\n",
       "        <th>deptno</th>\n",
       "        <th>empid</th>\n",
       "        <th>salary</th>\n",
       "        <th>dense_rank</th>\n",
       "        <th>top_employee</th>\n",
       "    </tr>\n",
       "    <tr>\n",
       "        <td>4001</td>\n",
       "        <td>502</td>\n",
       "        <td>40000</td>\n",
       "        <td>1</td>\n",
       "        <td>top</td>\n",
       "    </tr>\n",
       "    <tr>\n",
       "        <td>4001</td>\n",
       "        <td>512</td>\n",
       "        <td>40000</td>\n",
       "        <td>1</td>\n",
       "        <td>top</td>\n",
       "    </tr>\n",
       "    <tr>\n",
       "        <td>4001</td>\n",
       "        <td>501</td>\n",
       "        <td>30000</td>\n",
       "        <td>2</td>\n",
       "        <td>not top</td>\n",
       "    </tr>\n",
       "    <tr>\n",
       "        <td>4001</td>\n",
       "        <td>503</td>\n",
       "        <td>30000</td>\n",
       "        <td>2</td>\n",
       "        <td>not top</td>\n",
       "    </tr>\n",
       "    <tr>\n",
       "        <td>4002</td>\n",
       "        <td>504</td>\n",
       "        <td>50000</td>\n",
       "        <td>1</td>\n",
       "        <td>top</td>\n",
       "    </tr>\n",
       "    <tr>\n",
       "        <td>4002</td>\n",
       "        <td>505</td>\n",
       "        <td>30000</td>\n",
       "        <td>2</td>\n",
       "        <td>not top</td>\n",
       "    </tr>\n",
       "    <tr>\n",
       "        <td>4002</td>\n",
       "        <td>506</td>\n",
       "        <td>30000</td>\n",
       "        <td>2</td>\n",
       "        <td>not top</td>\n",
       "    </tr>\n",
       "    <tr>\n",
       "        <td>4002</td>\n",
       "        <td>507</td>\n",
       "        <td>30000</td>\n",
       "        <td>2</td>\n",
       "        <td>not top</td>\n",
       "    </tr>\n",
       "    <tr>\n",
       "        <td>4002</td>\n",
       "        <td>508</td>\n",
       "        <td>30000</td>\n",
       "        <td>2</td>\n",
       "        <td>not top</td>\n",
       "    </tr>\n",
       "    <tr>\n",
       "        <td>4003</td>\n",
       "        <td>509</td>\n",
       "        <td>60000</td>\n",
       "        <td>1</td>\n",
       "        <td>top</td>\n",
       "    </tr>\n",
       "    <tr>\n",
       "        <td>4003</td>\n",
       "        <td>510</td>\n",
       "        <td>30000</td>\n",
       "        <td>2</td>\n",
       "        <td>not top</td>\n",
       "    </tr>\n",
       "    <tr>\n",
       "        <td>4003</td>\n",
       "        <td>511</td>\n",
       "        <td>30000</td>\n",
       "        <td>2</td>\n",
       "        <td>not top</td>\n",
       "    </tr>\n",
       "</table>"
      ],
      "text/plain": [
       "[(4001, 502, 40000, 1, 'top'),\n",
       " (4001, 512, 40000, 1, 'top'),\n",
       " (4001, 501, 30000, 2, 'not top'),\n",
       " (4001, 503, 30000, 2, 'not top'),\n",
       " (4002, 504, 50000, 1, 'top'),\n",
       " (4002, 505, 30000, 2, 'not top'),\n",
       " (4002, 506, 30000, 2, 'not top'),\n",
       " (4002, 507, 30000, 2, 'not top'),\n",
       " (4002, 508, 30000, 2, 'not top'),\n",
       " (4003, 509, 60000, 1, 'top'),\n",
       " (4003, 510, 30000, 2, 'not top'),\n",
       " (4003, 511, 30000, 2, 'not top')]"
      ]
     },
     "execution_count": 69,
     "metadata": {},
     "output_type": "execute_result"
    }
   ],
   "source": [
    "%%sql\n",
    "select \n",
    "    deptno, empid, salary,\n",
    "    dense_rank() over(partition by deptno order by salary desc) as dense_rank,\n",
    "    case \n",
    "    when salary > 30000 then 'top'\n",
    "    else 'not top'\n",
    "    end as top_employee\n",
    "from emp\n",
    "order by deptno;"
   ]
  },
  {
   "cell_type": "markdown",
   "metadata": {},
   "source": [
    "### Common Table Expressions"
   ]
  },
  {
   "cell_type": "code",
   "execution_count": 70,
   "metadata": {},
   "outputs": [
    {
     "name": "stdout",
     "output_type": "stream",
     "text": [
      " * sqlite://\n",
      "Done.\n"
     ]
    },
    {
     "data": {
      "text/html": [
       "<table>\n",
       "    <tr>\n",
       "        <th>deptno</th>\n",
       "        <th>empid</th>\n",
       "        <th>fname</th>\n",
       "        <th>salary</th>\n",
       "        <th>dense_rank</th>\n",
       "    </tr>\n",
       "    <tr>\n",
       "        <td>4001</td>\n",
       "        <td>502</td>\n",
       "        <td>JOHN</td>\n",
       "        <td>40000</td>\n",
       "        <td>1</td>\n",
       "    </tr>\n",
       "    <tr>\n",
       "        <td>4001</td>\n",
       "        <td>512</td>\n",
       "        <td>AMRISHAN</td>\n",
       "        <td>40000</td>\n",
       "        <td>1</td>\n",
       "    </tr>\n",
       "    <tr>\n",
       "        <td>4002</td>\n",
       "        <td>504</td>\n",
       "        <td>EVAN</td>\n",
       "        <td>50000</td>\n",
       "        <td>1</td>\n",
       "    </tr>\n",
       "    <tr>\n",
       "        <td>4003</td>\n",
       "        <td>509</td>\n",
       "        <td>SARRAH</td>\n",
       "        <td>60000</td>\n",
       "        <td>1</td>\n",
       "    </tr>\n",
       "</table>"
      ],
      "text/plain": [
       "[(4001, 502, 'JOHN', 40000, 1),\n",
       " (4001, 512, 'AMRISHAN', 40000, 1),\n",
       " (4002, 504, 'EVAN', 50000, 1),\n",
       " (4003, 509, 'SARRAH', 60000, 1)]"
      ]
     },
     "execution_count": 70,
     "metadata": {},
     "output_type": "execute_result"
    }
   ],
   "source": [
    "%%sql\n",
    "with cte1 as \n",
    "(select \n",
    "    deptno, empid, fname, salary,\n",
    "    dense_rank() over(partition by deptno order by salary desc) as dense_rank\n",
    "from emp\n",
    "order by deptno)\n",
    "\n",
    "select * from cte1 where dense_rank = 1;"
   ]
  },
  {
   "cell_type": "markdown",
   "metadata": {},
   "source": [
    "### String Fucntions"
   ]
  },
  {
   "cell_type": "markdown",
   "metadata": {},
   "source": [
    "SELECT CONCAT('SQL', ' ', 'is', ' ', 'fun!');\n",
    "\n",
    "SELECT DIFFERENCE('Juice', 'Jucy');\n",
    "\n",
    "SELECT REPLACE('SQL Tutorial', 'SQL', 'HTML');\n",
    "\n",
    "SUBSTRING(string, start, length)\n",
    "\n",
    "SELECT SUBSTRING('SQL Tutorial', 1, 3) AS ExtractString;\n",
    "\n",
    "SELECT TRIM('     SQL Tutorial!     ') AS TrimmedString;\n",
    "\n",
    "SELECT TRIM('#! ' FROM '    #SQL Tutorial!    ') AS TrimmedString;\n",
    "\n",
    "SELECT name, SUBSTRING(name, 1, 1) AS Initial ,\n",
    "SUBSTRING(name, 3, 2) AS ThirdAndFourthCharacters\n",
    "FROM sys.databases  \n",
    "WHERE database_id < 5; "
   ]
  },
  {
   "cell_type": "markdown",
   "metadata": {},
   "source": [
    "### Lag/Lead"
   ]
  },
  {
   "cell_type": "code",
   "execution_count": 75,
   "metadata": {},
   "outputs": [
    {
     "name": "stdout",
     "output_type": "stream",
     "text": [
      " * sqlite://\n",
      "Done.\n"
     ]
    },
    {
     "data": {
      "text/html": [
       "<table>\n",
       "    <tr>\n",
       "        <th>empid</th>\n",
       "        <th>salary</th>\n",
       "        <th>lag</th>\n",
       "        <th>lead</th>\n",
       "    </tr>\n",
       "    <tr>\n",
       "        <td>501</td>\n",
       "        <td>30000</td>\n",
       "        <td>None</td>\n",
       "        <td>40000</td>\n",
       "    </tr>\n",
       "    <tr>\n",
       "        <td>502</td>\n",
       "        <td>40000</td>\n",
       "        <td>30000</td>\n",
       "        <td>30000</td>\n",
       "    </tr>\n",
       "    <tr>\n",
       "        <td>503</td>\n",
       "        <td>30000</td>\n",
       "        <td>40000</td>\n",
       "        <td>50000</td>\n",
       "    </tr>\n",
       "    <tr>\n",
       "        <td>504</td>\n",
       "        <td>50000</td>\n",
       "        <td>30000</td>\n",
       "        <td>30000</td>\n",
       "    </tr>\n",
       "    <tr>\n",
       "        <td>505</td>\n",
       "        <td>30000</td>\n",
       "        <td>50000</td>\n",
       "        <td>30000</td>\n",
       "    </tr>\n",
       "    <tr>\n",
       "        <td>506</td>\n",
       "        <td>30000</td>\n",
       "        <td>30000</td>\n",
       "        <td>30000</td>\n",
       "    </tr>\n",
       "    <tr>\n",
       "        <td>507</td>\n",
       "        <td>30000</td>\n",
       "        <td>30000</td>\n",
       "        <td>30000</td>\n",
       "    </tr>\n",
       "    <tr>\n",
       "        <td>508</td>\n",
       "        <td>30000</td>\n",
       "        <td>30000</td>\n",
       "        <td>60000</td>\n",
       "    </tr>\n",
       "    <tr>\n",
       "        <td>509</td>\n",
       "        <td>60000</td>\n",
       "        <td>30000</td>\n",
       "        <td>30000</td>\n",
       "    </tr>\n",
       "    <tr>\n",
       "        <td>510</td>\n",
       "        <td>30000</td>\n",
       "        <td>60000</td>\n",
       "        <td>30000</td>\n",
       "    </tr>\n",
       "    <tr>\n",
       "        <td>511</td>\n",
       "        <td>30000</td>\n",
       "        <td>30000</td>\n",
       "        <td>40000</td>\n",
       "    </tr>\n",
       "    <tr>\n",
       "        <td>512</td>\n",
       "        <td>40000</td>\n",
       "        <td>30000</td>\n",
       "        <td>None</td>\n",
       "    </tr>\n",
       "</table>"
      ],
      "text/plain": [
       "[(501, 30000, None, 40000),\n",
       " (502, 40000, 30000, 30000),\n",
       " (503, 30000, 40000, 50000),\n",
       " (504, 50000, 30000, 30000),\n",
       " (505, 30000, 50000, 30000),\n",
       " (506, 30000, 30000, 30000),\n",
       " (507, 30000, 30000, 30000),\n",
       " (508, 30000, 30000, 60000),\n",
       " (509, 60000, 30000, 30000),\n",
       " (510, 30000, 60000, 30000),\n",
       " (511, 30000, 30000, 40000),\n",
       " (512, 40000, 30000, None)]"
      ]
     },
     "execution_count": 75,
     "metadata": {},
     "output_type": "execute_result"
    }
   ],
   "source": [
    "%%sql\n",
    "select \n",
    "    empid, \n",
    "    salary, \n",
    "    lag(salary, 1) over(order by empid) as lag,\n",
    "    lead(salary, 1) over(order by empid) as lead\n",
    "from emp"
   ]
  },
  {
   "cell_type": "code",
   "execution_count": null,
   "metadata": {},
   "outputs": [],
   "source": []
  }
 ],
 "metadata": {
  "kernelspec": {
   "display_name": "environment",
   "language": "python",
   "name": "environment"
  },
  "language_info": {
   "codemirror_mode": {
    "name": "ipython",
    "version": 3
   },
   "file_extension": ".py",
   "mimetype": "text/x-python",
   "name": "python",
   "nbconvert_exporter": "python",
   "pygments_lexer": "ipython3",
   "version": "3.8.3"
  }
 },
 "nbformat": 4,
 "nbformat_minor": 4
}
